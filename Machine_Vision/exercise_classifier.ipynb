{
 "cells": [
  {
   "cell_type": "markdown",
   "id": "d602e75d",
   "metadata": {},
   "source": [
    "# 0. Import Libraries/Dependencies"
   ]
  },
  {
   "cell_type": "code",
   "execution_count": null,
   "id": "2d97e5ec",
   "metadata": {},
   "outputs": [],
   "source": [
    "import cv2\n",
    "import numpy as np\n",
    "import os\n",
    "from matplotlib import pyplot as plt\n",
    "import time\n",
    "import mediapipe as mp\n",
    "import tensorflow as tf\n",
    "import math\n",
    "import glob\n",
    "\n",
    "from sklearn.model_selection import train_test_split\n",
    "from sklearn.metrics import multilabel_confusion_matrix, accuracy_score, classification_report\n",
    "\n",
    "from tensorflow.keras.utils import to_categorical\n",
    "from tensorflow.keras import backend as K\n",
    "K.clear_session()\n",
    "from tensorflow.keras.callbacks import TensorBoard, EarlyStopping, ReduceLROnPlateau, ModelCheckpoint\n",
    "\n",
    "from tensorflow.keras.models import Sequential, Model\n",
    "\n",
    "from tensorflow.keras.layers import (LSTM, Dense, Concatenate, Attention, Dropout, Softmax,\n",
    "                                     Input, Flatten, Activation, Bidirectional, Permute, multiply, \n",
    "                                     ConvLSTM2D, MaxPooling3D, TimeDistributed, Conv2D, MaxPooling2D)\n",
    "\n",
    "from tensorflow.keras.optimizers.legacy import Adam\n",
    "\n",
    "from scipy import stats\n",
    "\n",
    "# disable some of the tf/keras training warnings \n",
    "os.environ['TF_CPP_MIN_LOG_LEVEL'] = \"3\"\n",
    "tf.get_logger().setLevel(\"ERROR\")\n",
    "tf.autograph.set_verbosity(1)\n",
    "\n",
    "# suppress untraced functions warning\n",
    "import absl.logging\n",
    "absl.logging.set_verbosity(absl.logging.ERROR)"
   ]
  },
  {
   "cell_type": "markdown",
   "id": "55f470e2",
   "metadata": {},
   "source": [
    "# 1. Keypoints using MP Pose\n",
    "- Load MediaPipe's (MP) Pose model for full-body keypoint detection\n",
    "- Initialize MP's drawing utilities to visualize the landmarks"
   ]
  },
  {
   "cell_type": "code",
   "execution_count": null,
   "id": "20cde117",
   "metadata": {},
   "outputs": [],
   "source": [
    "# Pre-trained pose estimation model from Google Mediapipe\n",
    "mp_pose = mp.solutions.pose\n",
    "\n",
    "# Supported Mediapipe visualization tools\n",
    "mp_drawing = mp.solutions.drawing_utils"
   ]
  },
  {
   "cell_type": "code",
   "execution_count": null,
   "id": "716e9f8e",
   "metadata": {},
   "outputs": [],
   "source": [
    "def mediapipe_detection(image, model):\n",
    "    \"\"\"\n",
    "    This function detects human pose estimation keypoints from webcam footage\n",
    "    \n",
    "    \"\"\"\n",
    "    image = cv2.cvtColor(image, cv2.COLOR_BGR2RGB) # COLOR CONVERSION BGR 2 RGB\n",
    "    image.flags.writeable = False                  # Image is no longer writeable\n",
    "    results = model.process(image)                 # Make prediction\n",
    "    image.flags.writeable = True                   # Image is now writeable \n",
    "    image = cv2.cvtColor(image, cv2.COLOR_RGB2BGR) # COLOR COVERSION RGB 2 BGR\n",
    "    return image, results"
   ]
  },
  {
   "cell_type": "code",
   "execution_count": null,
   "id": "9bd7ba58",
   "metadata": {},
   "outputs": [],
   "source": [
    "def draw_landmarks(image, results):\n",
    "    \"\"\"\n",
    "    This function draws keypoints and landmarks detected by the human pose estimation model\n",
    "    \n",
    "    \"\"\"\n",
    "    mp_drawing.draw_landmarks(image, results.pose_landmarks, mp_pose.POSE_CONNECTIONS,\n",
    "                                mp_drawing.DrawingSpec(color=(245,117,66), thickness=2, circle_radius=2), \n",
    "                                mp_drawing.DrawingSpec(color=(245,66,230), thickness=2, circle_radius=2) \n",
    "                                 )"
   ]
  },
  {
   "cell_type": "markdown",
   "id": "3ad2e7a0",
   "metadata": {},
   "source": [
    "# 2. Extract Frames from Videos\n",
    "- Load each video file using OpenCV\n",
    "- Sample frames at a consistent frame rate (e.g. 15-30 fps) for temporal consistency\n",
    "- Resize frames to a fixed size (e.g. 224x224) to reduce computation (optional)"
   ]
  },
  {
   "cell_type": "code",
   "execution_count": null,
   "id": "7ba5c93a",
   "metadata": {},
   "outputs": [],
   "source": [
    "def extract_frames(video_path, frame_rate=15):\n",
    "    \"\"\"\n",
    "    This function extracts and resizes frames from a video at a specified sampling rate\n",
    "\n",
    "    \"\"\"\n",
    "    cap = cv2.VideoCapture(video_path)\n",
    "    frames = []     # Define frames as an empty list\n",
    "    fps = cap.get(cv2.CAP_PROP_FPS)     # Extract the fps from the video\n",
    "    frame_interval = int(fps / frame_rate)\n",
    "    count = 0\n",
    "\n",
    "    while cap.isOpened():\n",
    "        # Read a frame from the video file    \n",
    "        ret, frame = cap.read()\n",
    "\n",
    "        if not ret:\n",
    "            break     # Break loop if the video is finished\n",
    "\n",
    "        # If the modulo is 0 btwn the count and the frame_interval --> resize the frame\n",
    "        if count % frame_interval == 0:\n",
    "            frame = cv2.resize(frame, (224, 224))\n",
    "            frames.append(frame)     # Adds the frame to the frames list (at the end)\n",
    "\n",
    "        count += 1\n",
    "    \n",
    "    cap.release()\n",
    "    return frames"
   ]
  },
  {
   "cell_type": "markdown",
   "id": "f9fb32f3",
   "metadata": {},
   "source": [
    "# 3. Extract Keypoints\n",
    "- Extract landmark coordinates from each frame using MediaPipe\n",
    "- Convert landmarks into feature vectors (i.e. angles, distances, or normalized coordinates)"
   ]
  },
  {
   "cell_type": "code",
   "execution_count": null,
   "id": "bdc9f7f1",
   "metadata": {},
   "outputs": [],
   "source": [
    "def extract_pose_features(frames):\n",
    "    \"\"\"\n",
    "    This function extracts the landmarks from each frame and converts them into feature vectors\n",
    "\n",
    "    \"\"\"\n",
    "    pose = mp_pose.Pose(static_image_mode=False)\n",
    "    features = []\n",
    "\n",
    "    for frame in frames:\n",
    "        results = pose.process(cv2.cvtColor(frame, cv2.COLOR_BGR2RGB))\n",
    "        if results.pose_landmarks:\n",
    "            \n",
    "            # Extract landmark positions / compute angles/distances here\n",
    "            landmarks = [(lm.x, lm.y, lm.z) for lm in results.pose_landmarks.landmark]\n",
    "            features.append(landmarks)\n",
    "        else:\n",
    "            features.append(None)\n",
    "        \n",
    "    pose.close()\n",
    "    return features"
   ]
  },
  {
   "cell_type": "markdown",
   "id": "03b907e8",
   "metadata": {},
   "source": [
    "# 4. Load Data from Directory\n",
    "- Define the path to the video dataset (video_dir)\n",
    "- Load videos from a directory (folder), and create labels for the videos based on the sub directory (the sub folders labelled \"bicep curl\", \"squat\" etc.)\n",
    "- For each sequence (including pose features per frame) apply a label, creating LSTM-ready sequences"
   ]
  },
  {
   "cell_type": "code",
   "execution_count": null,
   "id": "49df261a",
   "metadata": {},
   "outputs": [],
   "source": [
    "def extract_label_names(video_dir):\n",
    "    \"\"\"\n",
    "    This function extracts labels from the folder structure of a video dataset\n",
    "    \n",
    "    \"\"\"\n",
    "    video_paths = glob.glob(os.path.join(video_dir, '**','*.mp4'), recursive=True)\n",
    "    label_names = []\n",
    "    \n",
    "    # Infer label from the folder name\n",
    "    for video_path in video_paths:\n",
    "        #filename = os.path.basename(video_path)\n",
    "        label = os.path.basename(os.path.dirname(video_path))\n",
    "        label_names.append(label)\n",
    "\n",
    "    return label_names    "
   ]
  },
  {
   "cell_type": "code",
   "execution_count": null,
   "id": "ab9bd39a",
   "metadata": {},
   "outputs": [],
   "source": [
    "def process_videos_from_directory(video_dir, frame_rate=15, sequence_length=30):\n",
    "    \"\"\"\n",
    "    This function converts labeled videos into pose-based training sequences for an ML model\n",
    "    \n",
    "    \"\"\"\n",
    "\n",
    "    video_paths = glob.glob(os.path.join(video_dir, '**','*.mp4'), recursive=True)\n",
    "    all_sequences = []\n",
    "    all_labels = []\n",
    "    label_names = []\n",
    "\n",
    "    # Infer label from the folder name\n",
    "    for video_path in video_paths:\n",
    "        label = os.path.basename(os.path.dirname(video_path))\n",
    "        label_names.append(label)        \n",
    "\n",
    "    # Create a label map (map numerical labels to class names)\n",
    "    label_map = {label: idx for idx, label in enumerate(sorted(set(label_names)))}\n",
    "\n",
    "    # Read videos and extract frames\n",
    "    for video_path in video_paths:\n",
    "        label = os.path.basename(os.path.dirname(video_path))\n",
    "        label_idx = label_map[label]\n",
    "\n",
    "        # Extract frames and features\n",
    "        print(f\"Processing: {video_path}\")\n",
    "        frames = extract_frames(video_path, frame_rate=frame_rate)\n",
    "        if not frames:     # Print a warning if no frames were extracted\n",
    "            print(\"No frames extracted!\")\n",
    "            continue\n",
    "        \n",
    "        pose_features = extract_pose_features(frames)\n",
    "        pose_features = [f for f in pose_features if f is not None] # Remove frames with missing data\n",
    "\n",
    "        print(f\" --> {len(pose_features)} pose features.\")\n",
    "        \n",
    "        if len(pose_features) < sequence_length:\n",
    "            print(\"Warning: Not enough valid frames for sequence\")\n",
    "            continue\n",
    "\n",
    "        # Convert to np.array for easier slicing\n",
    "        pose_features = np.array(pose_features)\n",
    "        \n",
    "        # Create sliding window sequences\n",
    "        for i in range(len(pose_features) - sequence_length + 1):\n",
    "            sequence = pose_features[i : i + sequence_length]\n",
    "            all_sequences.append(sequence)\n",
    "            all_labels.append(label_idx)\n",
    "    \n",
    "    # Testing/Debugging - check that number of sequences and labels is the same\n",
    "    print(\"Number of sequences: \", len(all_sequences))\n",
    "    print(\"Number of labels: \", len(all_labels))\n",
    "    print(\"Label map: \", label_map)\n",
    "\n",
    "    X = np.array(all_sequences)\n",
    "    y = to_categorical(all_labels).astype(int)\n",
    "\n",
    "    # Returns: X (sequences), y (labels), label_map (dict)\n",
    "    return X, y, label_map"
   ]
  },
  {
   "cell_type": "code",
   "execution_count": null,
   "id": "ddcaecfd",
   "metadata": {},
   "outputs": [],
   "source": [
    "# file path - where the videos are located\n",
    "# copy the path to the main data folder, NOT the sub-folders (bicep curl, squat, etc.)\n",
    "video_dir = 'Copy_file_path_here'\n",
    "sequence_length = 30\n",
    "\n",
    "X, y, label_map = process_videos_from_directory(video_dir, frame_rate=15, sequence_length=sequence_length)\n",
    "\n",
    "# Make sure the first dimensions of arrays match\n",
    "print(X.shape, y.shape)    # X.shape: # of samples (sequences), time_steps (sequence_length), features per timestep (33 landmarks from MP), landmark values (x,y,z)\n",
    "                           # y.shape: encoded labels (# sequences), # of classes"
   ]
  },
  {
   "cell_type": "markdown",
   "id": "7622b573",
   "metadata": {},
   "source": [
    "# 5. Split into Training, Validation, and Testing datasets\n",
    "- Split: 75% training, 15% validation, 10% test\n"
   ]
  },
  {
   "cell_type": "code",
   "execution_count": null,
   "id": "5ac49993",
   "metadata": {},
   "outputs": [],
   "source": [
    "# Split 10% of data for the testing dataset\n",
    "    # random_state= --> ensures reproducibility, meaning you'll get the same split every time you run the code\n",
    "X_train, X_test, y_train, y_test = train_test_split(X, y, test_size=0.10, random_state=1)\n",
    "\n",
    "# Check the number of samples in the training dataset\n",
    "print(X_train.shape, y_train.shape)\n",
    "\n",
    "# Split about 16% of the remaining training data into validation (~ 15% of the total dataset)\n",
    "X_train, X_val, y_train, y_val = train_test_split(X_train, y_train, test_size=15/90, random_state=2)\n",
    "\n",
    "# Adjust shape of samples to fit in the LSTM [batch_size (num_sequences), time_steps (sequence_length), features_per_timestep (landmarks * coordinates per landmark)]\n",
    "X_train = X_train.reshape(X_train.shape[0], X_train.shape[1], 33 * 3)\n",
    "X_val = X_val.reshape(X_val.shape[0], X_val.shape[1], 33 * 3)\n",
    "X_test = X_test.reshape(X_test.shape[0], X_test.shape[1], 33 * 3)\n",
    "\n"
   ]
  },
  {
   "cell_type": "markdown",
   "id": "e53ae03d",
   "metadata": {},
   "source": [
    "# 6. Build and Train Neural Networks\n",
    "- Configuring model training: \n",
    "    - EarlyStopping - stops training if loss stops improving\n",
    "    - ReduceLROnPlateau - reduce learning rate is loss stops improving\n",
    "    - ModelCheckpoint - saves the best model w/ the least loss\n",
    "    - Implementing optimizers, and hyperparameters\n",
    "- Sequential LSTM Model Construction\n",
    "- Attention-based bidirectinal LSTM (basically an enhanced version of the sequential LSTM)"
   ]
  },
  {
   "cell_type": "code",
   "execution_count": null,
   "id": "912f3153",
   "metadata": {},
   "outputs": [],
   "source": [
    "# Callbacks to be used during neural network training \n",
    "es_callback = EarlyStopping(monitor='val_loss', min_delta=5e-4, patience=10, verbose=0, mode='min')\n",
    "lr_callback = ReduceLROnPlateau(monitor='val_loss', factor=0.2, patience=5, min_lr=0.00001, verbose=0, mode='min')\n",
    "chkpt_callback = ModelCheckpoint(filepath=video_dir, monitor='val_loss', verbose=0, save_best_only=True, \n",
    "                                 save_weights_only=False, mode='min', save_freq=1)\n",
    "\n",
    "# Optimizer\n",
    "opt_lstm = Adam(learning_rate=0.001) # for the LSTM model\n",
    "opt_attn = Adam(learning_rate=0.001) # for the LSTM + Attention model\n",
    "\n",
    "# some hyperparamters\n",
    "batch_size = 32     # number samples per training batch\n",
    "max_epochs = 500    # epoch - one full training iteration over the full dataset"
   ]
  },
  {
   "cell_type": "markdown",
   "id": "c1ca0cad",
   "metadata": {},
   "source": [
    "## 6a. LSTM\n",
    "- Baseline sequential LSTM model\n",
    "- TensorBoard & Callbacks setup\n",
    "    - For monitoring, debugging, and optimizing model performance\n",
    "- Model Architecture:\n",
    "    - Input layer -> 3 LSTM layers -> 2 Dense layers -> Output layer\n",
    "- Compiles and trains LSTM"
   ]
  },
  {
   "cell_type": "code",
   "execution_count": null,
   "id": "730f987b",
   "metadata": {},
   "outputs": [],
   "source": [
    "# Set up Tensorboard logging and callbacks\n",
    "NAME = f\"ExerciseRecognition-LSTM-{int(time.time())}\"\n",
    "log_dir = os.path.join(os.getcwd(), 'logs', NAME,'')\n",
    "tb_callback = TensorBoard(log_dir=log_dir)\n",
    "\n",
    "callbacks = [tb_callback, es_callback, lr_callback, chkpt_callback]"
   ]
  },
  {
   "cell_type": "code",
   "execution_count": null,
   "id": "ae7595c1",
   "metadata": {},
   "outputs": [],
   "source": [
    "# num_input_values: 33 landmarks (from MP) *3 (x, y, z)\n",
    "num_input_values = 33 * 3\n",
    "X = X.reshape(X.shape[0], sequence_length, num_input_values)\n",
    "print(X.shape)\n",
    "\n",
    "# an array of the exercises\n",
    "label_names = extract_label_names(video_dir)\n",
    "\n",
    "lstm = Sequential()\n",
    "lstm.add(Input(shape=(sequence_length, num_input_values)))      # Explicit input\n",
    "lstm.add(LSTM(128, return_sequences=True, activation='relu'))   # Looks at short-term patterns in the motion\n",
    "lstm.add(LSTM(256, return_sequences=True, activation='relu'))   # Looks deeper at more abstract movement sequences\n",
    "lstm.add(LSTM(128, return_sequences=False, activation='relu'))  # Condenses all info to make final decision\n",
    "# Fully connected layers to interpret LSTM output\n",
    "lstm.add(Dense(128, activation='relu'))\n",
    "lstm.add(Dense(64, activation='relu'))\n",
    "# Output a probability for each possible action using 'softmax'\n",
    "lstm.add(Dense(y.shape[1], activation='softmax'))\n",
    "\n",
    "print(lstm.summary())"
   ]
  },
  {
   "cell_type": "code",
   "execution_count": null,
   "id": "8a10e698",
   "metadata": {},
   "outputs": [],
   "source": [
    "lstm.compile(optimizer=opt_lstm, loss='categorical_crossentropy', metrics=['categorical_accuracy'])\n",
    "lstm.fit(X_train, y_train, batch_size=batch_size, epochs=max_epochs, validation_data=(X_val, y_val), callbacks=callbacks)"
   ]
  },
  {
   "cell_type": "markdown",
   "id": "8f58c4d8",
   "metadata": {},
   "source": [
    "## 6b. LSTM + Attention\n",
    "- Attention mechanism (attention_block)\n",
    "- Model Architecture:\n",
    "    - Input layer -> Bi-LSTM layer -> Attention layer -> Dense layer -> Output layer\n",
    "- Compiles & Trains AttnLSTM"
   ]
  },
  {
   "cell_type": "code",
   "execution_count": null,
   "id": "c6e12666",
   "metadata": {},
   "outputs": [],
   "source": [
    "# Set up Tensorboard logging and callbacks\n",
    "NAME = f\"ExerciseRecognition-AttnLSTM-{int(time.time())}\"\n",
    "log_dir = os.path.join(os.getcwd(), 'logs', NAME,'')\n",
    "tb_callback = TensorBoard(log_dir=log_dir)\n",
    "\n",
    "callbacks = [tb_callback, es_callback, lr_callback, chkpt_callback]"
   ]
  },
  {
   "cell_type": "code",
   "execution_count": null,
   "id": "07591dac",
   "metadata": {},
   "outputs": [],
   "source": [
    "def attention_block(inputs, time_steps):\n",
    "    \"\"\"\n",
    "    Attention layer for deep neural network\n",
    "    \n",
    "    \"\"\"\n",
    "    # Attention weights\n",
    "    a = Permute((2, 1))(inputs)\n",
    "    a = Dense(time_steps, activation='softmax')(a)\n",
    "    \n",
    "    # Attention vector\n",
    "    a_probs = Permute((2, 1), name='attention_vec')(a)\n",
    "    \n",
    "    # Luong's multiplicative score\n",
    "    output_attention_mul = multiply([inputs, a_probs], name='attention_mul') \n",
    "    \n",
    "    return output_attention_mul"
   ]
  },
  {
   "cell_type": "code",
   "execution_count": null,
   "id": "c5c2e2e0",
   "metadata": {},
   "outputs": [],
   "source": [
    "HIDDEN_UNITS = 256\n",
    "\n",
    "# Input\n",
    "inputs = Input(shape=(sequence_length, num_input_values))\n",
    "\n",
    "# Bi-LSTM: looks at a sequence forward and backward\n",
    "lstm_out = Bidirectional(LSTM(HIDDEN_UNITS, return_sequences=True))(inputs)\n",
    "\n",
    "# Attention\n",
    "attention_mul = attention_block(lstm_out, sequence_length)\n",
    "attention_mul = Flatten()(attention_mul)\n",
    "\n",
    "# Fully Connected Layer\n",
    "x = Dense(2*HIDDEN_UNITS, activation='relu')(attention_mul)\n",
    "x = Dropout(0.5)(x)\n",
    "\n",
    "# Output\n",
    "x = Dense(y.shape[1], activation='softmax')(x)\n",
    "\n",
    "# Bring it all together\n",
    "AttnLSTM = Model(inputs=[inputs], outputs=x)\n",
    "print(AttnLSTM.summary())"
   ]
  },
  {
   "cell_type": "code",
   "execution_count": null,
   "id": "cf2f988d",
   "metadata": {},
   "outputs": [],
   "source": [
    "# categorical crossentropy: measures difference btwn predicted probability distribution and actual (true) distribution of classes\n",
    "# aka softmax loss or log loss\n",
    "\n",
    "AttnLSTM.compile(optimizer=opt_attn, loss='categorical_crossentropy', metrics=['categorical_accuracy'])\n",
    "AttnLSTM.fit(X_train, y_train, batch_size=batch_size, epochs=max_epochs, validation_data=(X_val, y_val), callbacks=callbacks)"
   ]
  },
  {
   "cell_type": "code",
   "execution_count": null,
   "id": "b89f67cf",
   "metadata": {},
   "outputs": [],
   "source": [
    "# Model map\n",
    "models = {\n",
    "    'LSTM': lstm, \n",
    "    'LSTM_Attention_128HUs': AttnLSTM, \n",
    "}"
   ]
  },
  {
   "cell_type": "markdown",
   "id": "a928f612",
   "metadata": {},
   "source": [
    "# 7. Save & Load Weights\n",
    "- Save the models (architecture + weights + optimizer state) \n",
    "- Reload the models' trained weights into rebuilt model objects\n",
    "    - Useful for reusing models after training them once, and to avoid retraining when restarting your script/notebook"
   ]
  },
  {
   "cell_type": "code",
   "execution_count": null,
   "id": "0a7647ad",
   "metadata": {},
   "outputs": [],
   "source": [
    "# Save Weights\n",
    "for model_name, model in models.items():\n",
    "    save_dir = os.path.join(os.getcwd(), f\"{model_name}.h5\")\n",
    "    model.save(save_dir)        # saves the full model, not just weights"
   ]
  },
  {
   "cell_type": "code",
   "execution_count": null,
   "id": "ed0114a6",
   "metadata": {},
   "outputs": [],
   "source": [
    "# Load Weights\n",
    "# Run model rebuild before doing this\n",
    "for model_name, model in models.items():\n",
    "    load_dir = os.path.join(os.getcwd(), f\"{model_name}.h5\")\n",
    "    model.load_weights(load_dir)"
   ]
  },
  {
   "cell_type": "markdown",
   "id": "1b7747c6",
   "metadata": {},
   "source": [
    "# 8. Make Predictions"
   ]
  },
  {
   "cell_type": "code",
   "execution_count": null,
   "id": "2101a592",
   "metadata": {},
   "outputs": [],
   "source": [
    "for model in models.values():\n",
    "    res = model.predict(X_test, verbose=0)   "
   ]
  },
  {
   "cell_type": "markdown",
   "id": "6b36c98e",
   "metadata": {},
   "source": [
    "# 9. Evaluations using Confusion Matrix and Accuracy\n",
    "- This helps to understand how well the model is performing\n"
   ]
  },
  {
   "cell_type": "code",
   "execution_count": null,
   "id": "ecf242d9",
   "metadata": {},
   "outputs": [],
   "source": [
    "# Dictionary to store overall evaluation results\n",
    "eval_results = {}\n",
    "eval_results['confusion matrix'] = None            # Placeholder for overall confusion matrix\n",
    "eval_results['accuracy'] = None                    # Placeholder for overall accuracy\n",
    "eval_results['precision'] = None                   # Placeholder for overall precision\n",
    "eval_results['recall'] = None                      # Placeholder for overall recall\n",
    "eval_results['f1 score'] = None                    # Placeholder for overall F1 score\n",
    "\n",
    "# Dictionaries to store evaluation metrics per model\n",
    "confusion_matrices = {}                            # Holds the confusion matrix for each model\n",
    "classification_accuracies = {}                     # Holds the accuracy score for each model\n",
    "precisions = {}                                    # Hold the precision score\n",
    "recalls = {}                                       # Hold the recall score\n",
    "f1_scores = {}                                     # Hold the F1 score"
   ]
  },
  {
   "cell_type": "markdown",
   "id": "74d6778f",
   "metadata": {},
   "source": [
    "## 9a. Confusion Matrices\n",
    "- Predicted vs Actual Labels\n",
    "- Shows how many times the model:\n",
    "    - correctly predicted each class (diagonal values)\n",
    "    - confused a class for another (off-diagonal values)"
   ]
  },
  {
   "cell_type": "code",
   "execution_count": null,
   "id": "fccbb90f",
   "metadata": {},
   "outputs": [],
   "source": [
    "# Loop through each model (lstm and AttnLSTM)\n",
    "for model_name, model in models.items():\n",
    "    # Predict labels for test data\n",
    "    yhat = model.predict(X_test, verbose=0)\n",
    "    \n",
    "    # Get list of classification predictions\n",
    "    ytrue = np.argmax(y_test, axis=1).tolist()\n",
    "    yhat = np.argmax(yhat, axis=1).tolist()\n",
    "    \n",
    "    # Confusion matrix\n",
    "    confusion_matrices[model_name] = multilabel_confusion_matrix(ytrue, yhat)\n",
    "    print(f\"{model_name} confusion matrix: {os.linesep}{confusion_matrices[model_name]}\")\n",
    "\n",
    "# Collect/store results \n",
    "eval_results['confusion matrix'] = confusion_matrices"
   ]
  },
  {
   "cell_type": "markdown",
   "id": "b76c6dc5",
   "metadata": {},
   "source": [
    "## 9b. Accuracy\n",
    "- The overall percentage of correct predictions\n",
    "- Accuracy = (correct predictions) / (total predictions)"
   ]
  },
  {
   "cell_type": "code",
   "execution_count": null,
   "id": "e36146f5",
   "metadata": {},
   "outputs": [],
   "source": [
    "for model_name, model in models.items():\n",
    "    # Predict labels for test data\n",
    "    yhat = model.predict(X_test, verbose=0)\n",
    "    \n",
    "    # Get list of classification predictions\n",
    "    ytrue = np.argmax(y_test, axis=1).tolist()\n",
    "    yhat = np.argmax(yhat, axis=1).tolist()\n",
    "    \n",
    "    # Model accuracy\n",
    "    classification_accuracies[model_name] = accuracy_score(ytrue, yhat)    \n",
    "    print(f\"{model_name} classification accuracy = {round(classification_accuracies[model_name]*100,3)}%\")\n",
    "\n",
    "# Collect results \n",
    "eval_results['accuracy'] = classification_accuracies"
   ]
  },
  {
   "cell_type": "markdown",
   "id": "33efa73a",
   "metadata": {},
   "source": [
    "## 9c. Precision, Recall, and F1 Score\n",
    "- Precision - out of all times the model predicted a class, how often was it correct?\n",
    "    - Precision = (True positives) / (True positives + False positives)\n",
    "- Recall - out of all times a class actually occurred, how often did the model catch it?\n",
    "    - Recall = (True positives) / (True positives + False negatives)\n",
    "- F1 Score - a score that balances both Precision and Recall (the harmonic mean of the 2)\n",
    "    - F1 Score = 2 * (Precision * Recall) / (Precision + Recall)"
   ]
  },
  {
   "cell_type": "code",
   "execution_count": null,
   "id": "35067c48",
   "metadata": {},
   "outputs": [],
   "source": [
    "for model_name, model in models.items():\n",
    "    # Predict labels for test data\n",
    "    yhat = model.predict(X_test, verbose=0)\n",
    "    \n",
    "    # Get list of classification predictions\n",
    "    ytrue = np.argmax(y_test, axis=1).tolist()\n",
    "    yhat = np.argmax(yhat, axis=1).tolist()\n",
    "\n",
    "    label_names = [label for label, idx in sorted(label_map.items(), key=lambda x:x[1])]\n",
    "    print(label_names)\n",
    "    \n",
    "    # Precision, recall, and f1 score\n",
    "    report = classification_report(ytrue, yhat, target_names=label_names, output_dict=True)\n",
    "    \n",
    "    precisions[model_name] = report['weighted avg']['precision']\n",
    "    recalls[model_name] = report['weighted avg']['recall']\n",
    "    f1_scores[model_name] = report['weighted avg']['f1-score'] \n",
    "   \n",
    "    print(f\"{model_name} weighted average precision = {round(precisions[model_name],3)}\")\n",
    "    print(f\"{model_name} weighted average recall = {round(recalls[model_name],3)}\")\n",
    "    print(f\"{model_name} weighted average f1-score = {round(f1_scores[model_name],3)}\\n\")\n",
    "\n",
    "# Collect results \n",
    "eval_results['precision'] = precisions\n",
    "eval_results['recall'] = recalls\n",
    "eval_results['f1 score'] = f1_scores"
   ]
  },
  {
   "cell_type": "markdown",
   "id": "e5d39476",
   "metadata": {},
   "source": [
    "# 10. Choose Model to Test in Real Time"
   ]
  },
  {
   "cell_type": "code",
   "execution_count": null,
   "id": "d72d0605",
   "metadata": {},
   "outputs": [],
   "source": [
    "model = AttnLSTM          # you can also choose to test the baseline model (\"lstm\")\n",
    "model_name = 'AttnLSTM'\n",
    "\n",
    "# Now the ML model is ready to be used in an application!"
   ]
  }
 ],
 "metadata": {
  "kernelspec": {
   "display_name": "mlTrainer",
   "language": "python",
   "name": "python3"
  },
  "language_info": {
   "codemirror_mode": {
    "name": "ipython",
    "version": 3
   },
   "file_extension": ".py",
   "mimetype": "text/x-python",
   "name": "python",
   "nbconvert_exporter": "python",
   "pygments_lexer": "ipython3",
   "version": "3.10.7"
  }
 },
 "nbformat": 4,
 "nbformat_minor": 5
}
